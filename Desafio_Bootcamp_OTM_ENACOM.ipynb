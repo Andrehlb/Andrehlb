{
  "nbformat": 4,
  "nbformat_minor": 0,
  "metadata": {
    "colab": {
      "provenance": [],
      "authorship_tag": "ABX9TyP0LnLidI/eeptgvKe3HJvW",
      "include_colab_link": true
    },
    "kernelspec": {
      "name": "python3",
      "display_name": "Python 3"
    },
    "language_info": {
      "name": "python"
    }
  },
  "cells": [
    {
      "cell_type": "markdown",
      "metadata": {
        "id": "view-in-github",
        "colab_type": "text"
      },
      "source": [
        "<a href=\"https://colab.research.google.com/github/Andrehlb/Andrehlb/blob/main/Desafio_Bootcamp_OTM_ENACOM.ipynb\" target=\"_parent\"><img src=\"https://colab.research.google.com/assets/colab-badge.svg\" alt=\"Open In Colab\"/></a>"
      ]
    },
    {
      "cell_type": "code",
      "execution_count": 14,
      "metadata": {
        "colab": {
          "base_uri": "https://localhost:8080/",
          "height": 130
        },
        "id": "-GHugz2DUmLm",
        "outputId": "66e1202f-4f69-4f9b-e42c-5901d6490401"
      },
      "outputs": [
        {
          "output_type": "error",
          "ename": "SyntaxError",
          "evalue": "ignored",
          "traceback": [
            "\u001b[0;36m  File \u001b[0;32m\"<ipython-input-14-811e5aec6fdf>\"\u001b[0;36m, line \u001b[0;32m2\u001b[0m\n\u001b[0;31m    pip install publish_display_data\u001b[0m\n\u001b[0m        ^\u001b[0m\n\u001b[0;31mSyntaxError\u001b[0m\u001b[0;31m:\u001b[0m invalid syntax\n"
          ]
        }
      ],
      "source": [
        "from IPython.core.display import publish_display_data\n",
        "pip install publish_display_data"
      ]
    },
    {
      "cell_type": "code",
      "source": [
        "import pulp\n"
      ],
      "metadata": {
        "colab": {
          "base_uri": "https://localhost:8080/",
          "height": 304
        },
        "id": "m2vOS4asSit2",
        "outputId": "c9f6db64-1b33-4d88-d77c-b8004f2ff3eb"
      },
      "execution_count": 13,
      "outputs": [
        {
          "output_type": "error",
          "ename": "ModuleNotFoundError",
          "evalue": "ignored",
          "traceback": [
            "\u001b[0;31m---------------------------------------------------------------------------\u001b[0m",
            "\u001b[0;31mModuleNotFoundError\u001b[0m                       Traceback (most recent call last)",
            "\u001b[0;32m<ipython-input-13-a8a2163551b6>\u001b[0m in \u001b[0;36m<cell line: 1>\u001b[0;34m()\u001b[0m\n\u001b[0;32m----> 1\u001b[0;31m \u001b[0;32mimport\u001b[0m \u001b[0mpulp\u001b[0m\u001b[0;34m\u001b[0m\u001b[0;34m\u001b[0m\u001b[0m\n\u001b[0m",
            "\u001b[0;31mModuleNotFoundError\u001b[0m: No module named 'pulp'",
            "",
            "\u001b[0;31m---------------------------------------------------------------------------\u001b[0;32m\nNOTE: If your import is failing due to a missing package, you can\nmanually install dependencies using either !pip or !apt.\n\nTo view examples of installing some common dependencies, click the\n\"Open Examples\" button below.\n\u001b[0;31m---------------------------------------------------------------------------\u001b[0m\n"
          ],
          "errorDetails": {
            "actions": [
              {
                "action": "open_url",
                "actionText": "Open Examples",
                "url": "/notebooks/snippets/importing_libraries.ipynb"
              }
            ]
          }
        }
      ]
    },
    {
      "cell_type": "code",
      "source": [
        "pip install pulp\n"
      ],
      "metadata": {
        "colab": {
          "base_uri": "https://localhost:8080/"
        },
        "id": "_WgaGdZfSopn",
        "outputId": "d490a5d5-0a42-42bd-9f44-30e6e174ada1"
      },
      "execution_count": 15,
      "outputs": [
        {
          "output_type": "stream",
          "name": "stdout",
          "text": [
            "Collecting pulp\n",
            "  Downloading PuLP-2.7.0-py3-none-any.whl (14.3 MB)\n",
            "\u001b[?25l     \u001b[90m━━━━━━━━━━━━━━━━━━━━━━━━━━━━━━━━━━━━━━━━\u001b[0m \u001b[32m0.0/14.3 MB\u001b[0m \u001b[31m?\u001b[0m eta \u001b[36m-:--:--\u001b[0m\r\u001b[2K     \u001b[91m━━━━━━━━━\u001b[0m\u001b[90m╺\u001b[0m\u001b[90m━━━━━━━━━━━━━━━━━━━━━━━━━━━━━━\u001b[0m \u001b[32m3.3/14.3 MB\u001b[0m \u001b[31m98.9 MB/s\u001b[0m eta \u001b[36m0:00:01\u001b[0m\r\u001b[2K     \u001b[91m━━━━━━━━━━━━━━━━━━━━━━━━━━━━\u001b[0m\u001b[90m╺\u001b[0m\u001b[90m━━━━━━━━━━\u001b[0m \u001b[32m10.3/14.3 MB\u001b[0m \u001b[31m150.4 MB/s\u001b[0m eta \u001b[36m0:00:01\u001b[0m\r\u001b[2K     \u001b[91m━━━━━━━━━━━━━━━━━━━━━━━━━━━━━━━━━━━━━━\u001b[0m\u001b[91m╸\u001b[0m \u001b[32m14.2/14.3 MB\u001b[0m \u001b[31m209.2 MB/s\u001b[0m eta \u001b[36m0:00:01\u001b[0m\r\u001b[2K     \u001b[91m━━━━━━━━━━━━━━━━━━━━━━━━━━━━━━━━━━━━━━\u001b[0m\u001b[91m╸\u001b[0m \u001b[32m14.2/14.3 MB\u001b[0m \u001b[31m209.2 MB/s\u001b[0m eta \u001b[36m0:00:01\u001b[0m\r\u001b[2K     \u001b[90m━━━━━━━━━━━━━━━━━━━━━━━━━━━━━━━━━━━━━━━━\u001b[0m \u001b[32m14.3/14.3 MB\u001b[0m \u001b[31m92.5 MB/s\u001b[0m eta \u001b[36m0:00:00\u001b[0m\n",
            "\u001b[?25hInstalling collected packages: pulp\n",
            "Successfully installed pulp-2.7.0\n"
          ]
        }
      ]
    },
    {
      "cell_type": "code",
      "source": [
        "# definição, representação de cada opçao de investimento como dicionário, com 4 campos.\n",
        "options = [\n",
        "    {\"name\": \"Ampliação da capacidade do armazém ZDP em 5%\", \"cost\": 470000, \"return\": 410000, \"risk\": \"low\"},\n",
        "    {\"name\": \"Ampliação da capacidade do armazém MGL em 7%\", \"cost\": 400000, \"return\": 330000, \"risk\": \"low\"},\n",
        "    {\"name\": \"Compra de empilhadeira\", \"cost\": 170000, \"return\": 140000, \"risk\": \"medium\"},\n",
        "    {\"name\": \"Projeto de P&D I\", \"cost\": 270000, \"return\": 250000, \"risk\": \"medium\"},\n",
        "    {\"name\": \"Projeto de P&D II\", \"cost\": 340000, \"return\": 320000, \"risk\": \"medium\"},\n",
        "    {\"name\": \"Aquisição de novos equipamentos\", \"cost\": 230000, \"return\": 320000, \"risk\": \"medium\"},\n",
        "    {\"name\": \"Capacitação de funcionários\", \"cost\": 50000, \"return\": 90000, \"risk\": \"medium\"},\n",
        "    {\"name\": \"Ampliação da estrutura de carga rodoviária\", \"cost\": 440000, \"return\": 190000, \"risk\": \"high\"},\n",
        "    {\"name\": \"Construção de datacenter\", \"cost\": 320000, \"return\": 120000, \"risk\": \"high\"},\n",
        "    {\"name\": \"Aquisição de empresa concorrente\", \"cost\": 800000, \"return\": 450000, \"risk\": \"high\"},\n",
        "    {\"name\": \"Compra de serviços em nuvem\", \"cost\": 120000, \"return\": 80000, \"risk\": \"low\"},\n",
        "    {\"name\": \"Criação de aplicativo mobile e desktop\", \"cost\": 150000, \"return\": 120000, \"risk\": \"low\"},\n",
        "    {\"name\": \"Terceirizar serviço de otimização da logística\", \"cost\": 300000, \"return\": 380000, \"risk\": \"medium\"},\n",
        "]\n",
        "\n",
        "# Definindo o problema\n",
        "problem = LpProblem(\"Investment_Selection\", LpMaximize)\n",
        "\n",
        "# Definindo as variáveis de decisão\n",
        "variables = [LpVariable(\"option_\" + str(i), cat='Binary') for in range(13)]\n",
        "\n",
        "# Definindo o objetivo da função\n",
        "problem +="
      ],
      "metadata": {
        "id": "8nX8_FiAfGag"
      },
      "execution_count": 11,
      "outputs": []
    },
    {
      "cell_type": "code",
      "source": [],
      "metadata": {
        "id": "_K2eX6SxB3IF"
      },
      "execution_count": null,
      "outputs": []
    },
    {
      "cell_type": "code",
      "source": [
        "# Criação das variáveis (binária para cada investimento) de decisão (escolhido (1) ou não (0)).\n",
        "# Cada variável da lista `variables` terá correspondência com uma opção de investimento.\n",
        "from pulp import LpVariable\n",
        "\n",
        "variables = [LpVariable(\"option_\" + str(i), cat='Binary') for i in range(13)]"
      ],
      "metadata": {
        "id": "4WOVVkkDohgF"
      },
      "execution_count": 18,
      "outputs": []
    },
    {
      "cell_type": "code",
      "source": [
        "# Definindo a opção objetivo do problema, que é o que será maximizado (o retorno total esperado)\n",
        "from pulp import LpProblem, LpMaximize, lpSum\n",
        "# Criando um novo problema de otimização: \"Investment_Selection\" para ser maximizado\n",
        "problem = LpProblem(\"Investment_Selection\", LpMaximize)\n",
        "# Definindo a função objetivo, com a soma dos retornos totais esperados (R$ 3.200.000,00.) de todas as opções de investimento,\n",
        "# que são ponderadas pelas variáveis correpondentes.\n",
        "problem += lpSum([options[i][\"return\"] * variables[i] for i in range(13)])"
      ],
      "metadata": {
        "id": "KwNzpogmqmD2"
      },
      "execution_count": 19,
      "outputs": []
    },
    {
      "cell_type": "code",
      "source": [
        "# Modelo de otimização\n",
        "# Definindo e adicionando as restrições do problema, i. é., as regras que o problema deve seguir.\n",
        "# É fornecido: i) as restrições sobre o orçamento disponível de cada nível de risco;\n",
        "# ii) número mínimo de investimentos (que o cliente precisa escolher?) para cada nível de risco.\n",
        "\n",
        "# i) restrições de orçamento\n",
        "for risk, budget in [(\"low\", 1200000), (\"medium\", 1500000), (\"high\", 900000)]:\n",
        "    problem += lpSum([options[i][\"cost\"] * variables[i] for i in range(13) if options [i] == risk]) <= budget\n",
        "\n",
        "# ii) restrição de número mínimo de investimentos\n",
        "for risk, min_num in [(\"low\", 2), (\"medium\", 2), (\"high\", 1)]:\n",
        "    problem += lpSum([variables[i] for i in range(13) if options[i][\"risk\"] == risk])"
      ],
      "metadata": {
        "id": "wKXBIptDya7P",
        "colab": {
          "base_uri": "https://localhost:8080/"
        },
        "outputId": "c8935d3f-1803-4733-cc92-d5f44148f12a"
      },
      "execution_count": 20,
      "outputs": [
        {
          "output_type": "stream",
          "name": "stderr",
          "text": [
            "/usr/local/lib/python3.10/dist-packages/pulp/pulp.py:1704: UserWarning: Overwriting previously set objective.\n",
            "  warnings.warn(\"Overwriting previously set objective.\")\n"
          ]
        }
      ]
    },
    {
      "cell_type": "code",
      "source": [
        "# Resolvendo o problema e encontrando a combinação de investimentos que maximiza o retorno total esperado:\n",
        "# usando `solve()`\n",
        "\n",
        "problem.solve()\n",
        "\n",
        "# Imprimindo as opções de investimentos escolhidas\n",
        "for i in range (13):\n",
        "    if variables[i].varValue > 0:\n",
        "      print(options[i][\"name\"])\n"
      ],
      "metadata": {
        "colab": {
          "base_uri": "https://localhost:8080/",
          "height": 217
        },
        "id": "MDlWd1kZ0kor",
        "outputId": "7e58d26d-654c-4008-ef1a-620b425fc359"
      },
      "execution_count": 24,
      "outputs": [
        {
          "output_type": "error",
          "ename": "TypeError",
          "evalue": "ignored",
          "traceback": [
            "\u001b[0;31m---------------------------------------------------------------------------\u001b[0m",
            "\u001b[0;31mTypeError\u001b[0m                                 Traceback (most recent call last)",
            "\u001b[0;32m<ipython-input-24-ff1503f9e18d>\u001b[0m in \u001b[0;36m<cell line: 7>\u001b[0;34m()\u001b[0m\n\u001b[1;32m      6\u001b[0m \u001b[0;31m# Imprimindo as opções de investimentos escolhidas\u001b[0m\u001b[0;34m\u001b[0m\u001b[0;34m\u001b[0m\u001b[0m\n\u001b[1;32m      7\u001b[0m \u001b[0;32mfor\u001b[0m \u001b[0mi\u001b[0m \u001b[0;32min\u001b[0m \u001b[0mrange\u001b[0m \u001b[0;34m(\u001b[0m\u001b[0;36m13\u001b[0m\u001b[0;34m)\u001b[0m\u001b[0;34m:\u001b[0m\u001b[0;34m\u001b[0m\u001b[0;34m\u001b[0m\u001b[0m\n\u001b[0;32m----> 8\u001b[0;31m   \u001b[0;32mif\u001b[0m \u001b[0mvariables\u001b[0m\u001b[0;34m[\u001b[0m\u001b[0mi\u001b[0m\u001b[0;34m]\u001b[0m\u001b[0;34m.\u001b[0m\u001b[0mvarValue\u001b[0m \u001b[0;34m>\u001b[0m \u001b[0;36m0\u001b[0m\u001b[0;34m:\u001b[0m\u001b[0;34m\u001b[0m\u001b[0;34m\u001b[0m\u001b[0m\n\u001b[0m\u001b[1;32m      9\u001b[0m     \u001b[0mprint\u001b[0m\u001b[0;34m(\u001b[0m\u001b[0moptions\u001b[0m\u001b[0;34m[\u001b[0m\u001b[0mi\u001b[0m\u001b[0;34m]\u001b[0m\u001b[0;34m[\u001b[0m\u001b[0;34m\"name\"\u001b[0m\u001b[0;34m]\u001b[0m\u001b[0;34m)\u001b[0m\u001b[0;34m\u001b[0m\u001b[0;34m\u001b[0m\u001b[0m\n",
            "\u001b[0;31mTypeError\u001b[0m: '>' not supported between instances of 'NoneType' and 'int'"
          ]
        }
      ]
    }
  ]
}